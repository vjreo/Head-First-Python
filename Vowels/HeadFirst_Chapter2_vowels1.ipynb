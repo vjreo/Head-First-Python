{
 "cells": [
  {
   "cell_type": "code",
   "execution_count": 1,
   "id": "ecd3017d",
   "metadata": {},
   "outputs": [],
   "source": [
    "vowels = ['a', 'e', 'i', 'o', 'u']"
   ]
  },
  {
   "cell_type": "code",
   "execution_count": 2,
   "id": "91933245",
   "metadata": {},
   "outputs": [],
   "source": [
    "word = 'Milliways'"
   ]
  },
  {
   "cell_type": "code",
   "execution_count": 3,
   "id": "166db5ef",
   "metadata": {},
   "outputs": [
    {
     "name": "stdout",
     "output_type": "stream",
     "text": [
      "i\n",
      "i\n",
      "a\n"
     ]
    }
   ],
   "source": [
    "# take each letter in the word\n",
    "for letter in word:\n",
    "\n",
    "# and if it is in the 'vowels' list...\n",
    "    if letter in vowels:\n",
    "# display the letter on the screen.\n",
    "        print(letter)"
   ]
  },
  {
   "cell_type": "code",
   "execution_count": 4,
   "id": "35eaab21",
   "metadata": {},
   "outputs": [
    {
     "data": {
      "text/plain": [
       "0"
      ]
     },
     "execution_count": 4,
     "metadata": {},
     "output_type": "execute_result"
    }
   ],
   "source": [
    "found = []\n",
    "len(found)"
   ]
  },
  {
   "cell_type": "code",
   "execution_count": 5,
   "id": "bf9b17d2",
   "metadata": {},
   "outputs": [
    {
     "data": {
      "text/plain": [
       "1"
      ]
     },
     "execution_count": 5,
     "metadata": {},
     "output_type": "execute_result"
    }
   ],
   "source": [
    "found.append('a')\n",
    "len(found)"
   ]
  },
  {
   "cell_type": "code",
   "execution_count": 6,
   "id": "6e37008d",
   "metadata": {},
   "outputs": [
    {
     "data": {
      "text/plain": [
       "['a']"
      ]
     },
     "execution_count": 6,
     "metadata": {},
     "output_type": "execute_result"
    }
   ],
   "source": [
    "found"
   ]
  },
  {
   "cell_type": "code",
   "execution_count": 7,
   "id": "888bbaf8",
   "metadata": {},
   "outputs": [
    {
     "data": {
      "text/plain": [
       "4"
      ]
     },
     "execution_count": 7,
     "metadata": {},
     "output_type": "execute_result"
    }
   ],
   "source": [
    "found.append('e')\n",
    "found.append('i')\n",
    "found.append('o')\n",
    "len(found)"
   ]
  },
  {
   "cell_type": "code",
   "execution_count": 8,
   "id": "af2c1ec1",
   "metadata": {},
   "outputs": [
    {
     "data": {
      "text/plain": [
       "['a', 'e', 'i', 'o']"
      ]
     },
     "execution_count": 8,
     "metadata": {},
     "output_type": "execute_result"
    }
   ],
   "source": [
    "found"
   ]
  },
  {
   "cell_type": "code",
   "execution_count": 10,
   "id": "663b18a2",
   "metadata": {},
   "outputs": [],
   "source": [
    "# first invocation of 'append' works, as 'u' does not currently exist within the 'found' list\n",
    "if 'u' not in found:\n",
    "    found.append('u')"
   ]
  },
  {
   "cell_type": "code",
   "execution_count": 11,
   "id": "ad1c13af",
   "metadata": {},
   "outputs": [
    {
     "data": {
      "text/plain": [
       "['a', 'e', 'i', 'o', 'u']"
      ]
     },
     "execution_count": 11,
     "metadata": {},
     "output_type": "execute_result"
    }
   ],
   "source": [
    "found"
   ]
  },
  {
   "cell_type": "code",
   "execution_count": 14,
   "id": "294921b2",
   "metadata": {},
   "outputs": [],
   "source": [
    "# demonstrates that the second invocation of 'append' does not execute as 'u' already exists in 'found', so it does not need to be added again\n",
    "if 'u' not in found:\n",
    "    found.append('u')"
   ]
  },
  {
   "cell_type": "code",
   "execution_count": 13,
   "id": "a2b5c3f8",
   "metadata": {},
   "outputs": [
    {
     "data": {
      "text/plain": [
       "['a', 'e', 'i', 'o', 'u']"
      ]
     },
     "execution_count": 13,
     "metadata": {},
     "output_type": "execute_result"
    }
   ],
   "source": [
    "found"
   ]
  },
  {
   "cell_type": "code",
   "execution_count": null,
   "id": "aa0d2db5",
   "metadata": {},
   "outputs": [],
   "source": [
    "vowel"
   ]
  }
 ],
 "metadata": {
  "kernelspec": {
   "display_name": "Python 3 (ipykernel)",
   "language": "python",
   "name": "python3"
  },
  "language_info": {
   "codemirror_mode": {
    "name": "ipython",
    "version": 3
   },
   "file_extension": ".py",
   "mimetype": "text/x-python",
   "name": "python",
   "nbconvert_exporter": "python",
   "pygments_lexer": "ipython3",
   "version": "3.8.8"
  }
 },
 "nbformat": 4,
 "nbformat_minor": 5
}
